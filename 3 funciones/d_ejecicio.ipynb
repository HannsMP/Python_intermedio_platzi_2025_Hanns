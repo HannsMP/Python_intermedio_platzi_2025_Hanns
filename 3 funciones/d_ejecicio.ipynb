{
 "cells": [
  {
   "cell_type": "code",
   "execution_count": 12,
   "metadata": {},
   "outputs": [],
   "source": [
    "option = {\n",
    "   'computadora': 'Con mi computadora puedo programar usando Python',\n",
    "   'celular': 'En mi celular puedo aprender usando la app de Platzi',\n",
    "   'cable': '¡Hay un cable en mi bota!',\n",
    "}\n",
    "noOption = 'Artículo no encontrado'"
   ]
  },
  {
   "cell_type": "code",
   "execution_count": 13,
   "metadata": {},
   "outputs": [],
   "source": [
    "def message_creator(text):\n",
    "    # Escribe tu solución 👇\n",
    "    if text in option:\n",
    "        return option[text]\n",
    "    else:\n",
    "        return noOption\n",
    "   \n",
    "   "
   ]
  },
  {
   "cell_type": "code",
   "execution_count": 14,
   "metadata": {},
   "outputs": [
    {
     "name": "stdout",
     "output_type": "stream",
     "text": [
      "Con mi computadora puedo programar usando Python\n"
     ]
    }
   ],
   "source": [
    "text = 'computadora'\n",
    "response = message_creator(text)\n",
    "print(response)"
   ]
  }
 ],
 "metadata": {
  "kernelspec": {
   "display_name": "Python 3",
   "language": "python",
   "name": "python3"
  },
  "language_info": {
   "codemirror_mode": {
    "name": "ipython",
    "version": 3
   },
   "file_extension": ".py",
   "mimetype": "text/x-python",
   "name": "python",
   "nbconvert_exporter": "python",
   "pygments_lexer": "ipython3",
   "version": "3.11.0"
  }
 },
 "nbformat": 4,
 "nbformat_minor": 2
}
