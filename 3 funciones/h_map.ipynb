{
 "cells": [
  {
   "cell_type": "code",
   "execution_count": 2,
   "metadata": {},
   "outputs": [
    {
     "name": "stdout",
     "output_type": "stream",
     "text": [
      "[1, 2, 3, 4]\n",
      "[2, 4, 6, 8]\n",
      "[2, 4, 6, 8]\n",
      "[1, 2, 3, 4]\n",
      "[5, 6, 7]\n",
      "[6, 8, 10]\n"
     ]
    }
   ],
   "source": [
    "numbers = [1, 2, 3, 4]\n",
    "numbers_v2 = []\n",
    "for i in numbers:\n",
    "  numbers_v2.append(i * 2)\n",
    "\n",
    "numbers_v3 = list(map(lambda i: i * 2, numbers))\n",
    "\n",
    "print(numbers)\n",
    "print(numbers_v2)\n",
    "print(numbers_v3)\n",
    "\n",
    "numbers_1 = [1, 2, 3, 4]\n",
    "numbers_2 = [5, 6, 7]\n",
    "\n",
    "print(numbers_1)\n",
    "print(numbers_2)\n",
    "result = list(map(lambda x, y: x + y, numbers_1, numbers_2))\n",
    "print(result)"
   ]
  },
  {
   "cell_type": "code",
   "execution_count": 3,
   "metadata": {},
   "outputs": [
    {
     "name": "stdout",
     "output_type": "stream",
     "text": [
      "[{'product': 'camisa', 'price': 100}, {'product': 'pantalones', 'price': 300}, {'product': 'pantalones 2', 'price': 200}]\n",
      "[100, 300, 200]\n",
      "[{'product': 'camisa', 'price': 100, 'taxes': 19.0}, {'product': 'pantalones', 'price': 300, 'taxes': 57.0}, {'product': 'pantalones 2', 'price': 200, 'taxes': 38.0}]\n",
      "[{'product': 'camisa', 'price': 100, 'taxes': 19.0}, {'product': 'pantalones', 'price': 300, 'taxes': 57.0}, {'product': 'pantalones 2', 'price': 200, 'taxes': 38.0}]\n"
     ]
    }
   ],
   "source": [
    "items = [\n",
    "  {\n",
    "    'product': 'camisa',\n",
    "    'price': 100,\n",
    "  },\n",
    "  {\n",
    "    'product': 'pantalones',\n",
    "    'price': 300\n",
    "  },\n",
    "  {\n",
    "    'product': 'pantalones 2',\n",
    "    'price': 200\n",
    "  }\n",
    "]\n",
    "\n",
    "prices = list(map(lambda item: item['price'], items))\n",
    "print(items)\n",
    "print(prices)\n",
    "\n",
    "def add_taxes(item):\n",
    "  item['taxes'] = item['price'] * .19\n",
    "  return item\n",
    "\n",
    "new_items = list(map(add_taxes, items))\n",
    "print(new_items)\n",
    "print(items)"
   ]
  },
  {
   "cell_type": "code",
   "execution_count": 4,
   "metadata": {},
   "outputs": [
    {
     "name": "stdout",
     "output_type": "stream",
     "text": [
      "New list\n",
      "[{'product': 'camisa', 'price': 100, 'taxes': 19.0}, {'product': 'pantalones', 'price': 300, 'taxes': 57.0}, {'product': 'pantalones 2', 'price': 200, 'taxes': 38.0}]\n",
      "Old list\n",
      "[{'product': 'camisa', 'price': 100}, {'product': 'pantalones', 'price': 300}, {'product': 'pantalones 2', 'price': 200}]\n"
     ]
    }
   ],
   "source": [
    "items = [\n",
    "  {\n",
    "    'product': 'camisa',\n",
    "    'price': 100,\n",
    "  },\n",
    "  {\n",
    "    'product': 'pantalones',\n",
    "    'price': 300\n",
    "  },\n",
    "  {\n",
    "    'product': 'pantalones 2',\n",
    "    'price': 200\n",
    "  }\n",
    "]\n",
    "\n",
    "def add_taxes(item):\n",
    "  new_item = item.copy()\n",
    "  new_item['taxes'] = new_item['price'] * .19\n",
    "  return new_item\n",
    "\n",
    "new_items = list(map(add_taxes, items))\n",
    "print('New list')\n",
    "print(new_items)\n",
    "print('Old list')\n",
    "print(items)"
   ]
  }
 ],
 "metadata": {
  "kernelspec": {
   "display_name": "Python 3",
   "language": "python",
   "name": "python3"
  },
  "language_info": {
   "codemirror_mode": {
    "name": "ipython",
    "version": 3
   },
   "file_extension": ".py",
   "mimetype": "text/x-python",
   "name": "python",
   "nbconvert_exporter": "python",
   "pygments_lexer": "ipython3",
   "version": "3.11.0"
  }
 },
 "nbformat": 4,
 "nbformat_minor": 2
}
