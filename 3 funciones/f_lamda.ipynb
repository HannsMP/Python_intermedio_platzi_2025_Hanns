{
 "cells": [
  {
   "cell_type": "code",
   "execution_count": 1,
   "metadata": {},
   "outputs": [
    {
     "name": "stdout",
     "output_type": "stream",
     "text": [
      "11\n",
      "21\n",
      "Full name is Nicolas Perez Casas\n"
     ]
    }
   ],
   "source": [
    "def increment(x):\n",
    "  return x + 1\n",
    "\n",
    "\n",
    "increment_v2 = lambda x: x + 1\n",
    "\n",
    "result = increment(10)\n",
    "print(11)\n",
    "\n",
    "result = increment_v2(20)\n",
    "print(result)\n",
    "\n",
    "full_name = lambda name, last_name: f'Full name is {name.title()} {last_name.title()}'\n",
    "\n",
    "text = full_name('nicolas', 'perez casas')\n",
    "print(text)"
   ]
  }
 ],
 "metadata": {
  "kernelspec": {
   "display_name": "Python 3",
   "language": "python",
   "name": "python3"
  },
  "language_info": {
   "codemirror_mode": {
    "name": "ipython",
    "version": 3
   },
   "file_extension": ".py",
   "mimetype": "text/x-python",
   "name": "python",
   "nbconvert_exporter": "python",
   "pygments_lexer": "ipython3",
   "version": "3.11.0"
  }
 },
 "nbformat": 4,
 "nbformat_minor": 2
}
