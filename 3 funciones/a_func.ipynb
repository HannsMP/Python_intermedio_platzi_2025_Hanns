{
 "cells": [
  {
   "cell_type": "code",
   "execution_count": 1,
   "metadata": {},
   "outputs": [],
   "source": [
    "def log(*args, **kargs):\n",
    "    print(*args, **kargs)"
   ]
  },
  {
   "cell_type": "code",
   "execution_count": 2,
   "metadata": {},
   "outputs": [
    {
     "name": "stdout",
     "output_type": "stream",
     "text": [
      "hola\n"
     ]
    }
   ],
   "source": [
    "log('hola')"
   ]
  },
  {
   "cell_type": "code",
   "execution_count": 3,
   "metadata": {},
   "outputs": [
    {
     "name": "stdout",
     "output_type": "stream",
     "text": [
      "1 10\n",
      "45\n",
      "45 55\n",
      "495\n"
     ]
    }
   ],
   "source": [
    "def sum_with_range(min, max):\n",
    "  print(min, max)\n",
    "  sum = 0\n",
    "  for x in range(min, max):\n",
    "    sum += x\n",
    "  return sum\n",
    "\n",
    "result = sum_with_range(1, 10)\n",
    "print(result)\n",
    "result_2 = sum_with_range(result, result + 10)\n",
    "print(result_2)"
   ]
  },
  {
   "cell_type": "code",
   "execution_count": 4,
   "metadata": {},
   "outputs": [
    {
     "name": "stdout",
     "output_type": "stream",
     "text": [
      "10\n",
      "10\n",
      "hola\n"
     ]
    }
   ],
   "source": [
    "def find_volume(length=1, width=1, depth=1):\n",
    "  return length * width * depth, width, 'hola'\n",
    "\n",
    "result, width, text = find_volume(width=10)\n",
    "\n",
    "print(result)\n",
    "print(width)\n",
    "print(text)"
   ]
  }
 ],
 "metadata": {
  "kernelspec": {
   "display_name": "Python 3",
   "language": "python",
   "name": "python3"
  },
  "language_info": {
   "codemirror_mode": {
    "name": "ipython",
    "version": 3
   },
   "file_extension": ".py",
   "mimetype": "text/x-python",
   "name": "python",
   "nbconvert_exporter": "python",
   "pygments_lexer": "ipython3",
   "version": "3.11.0"
  }
 },
 "nbformat": 4,
 "nbformat_minor": 2
}
