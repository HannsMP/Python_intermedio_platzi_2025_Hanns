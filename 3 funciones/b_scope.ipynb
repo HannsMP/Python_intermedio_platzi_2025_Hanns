{
 "cells": [
  {
   "cell_type": "code",
   "execution_count": 4,
   "metadata": {},
   "outputs": [
    {
     "name": "stdout",
     "output_type": "stream",
     "text": [
      "100\n",
      "210\n",
      "100\n",
      "210\n"
     ]
    }
   ],
   "source": [
    "price = 100 # global\n",
    "# result = 200\n",
    "\n",
    "def increment():\n",
    "  price = 200\n",
    "  result = price + 10\n",
    "  print(result)\n",
    "  return result\n",
    "\n",
    "print(price) # linea principal price no se modificara\n",
    "price_2 = increment() # internamente se usa una variable price, pero no modificara al principal\n",
    "print(price)\n",
    "print(price_2)\n",
    "# print(result)"
   ]
  }
 ],
 "metadata": {
  "kernelspec": {
   "display_name": "Python 3",
   "language": "python",
   "name": "python3"
  },
  "language_info": {
   "codemirror_mode": {
    "name": "ipython",
    "version": 3
   },
   "file_extension": ".py",
   "mimetype": "text/x-python",
   "name": "python",
   "nbconvert_exporter": "python",
   "pygments_lexer": "ipython3",
   "version": "3.11.0"
  }
 },
 "nbformat": 4,
 "nbformat_minor": 2
}
