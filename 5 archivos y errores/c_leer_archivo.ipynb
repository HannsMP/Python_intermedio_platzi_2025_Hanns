{
 "cells": [
  {
   "cell_type": "code",
   "execution_count": 3,
   "metadata": {},
   "outputs": [
    {
     "name": "stdout",
     "output_type": "stream",
     "text": [
      "hola mundo\n",
      "hola mundo\n"
     ]
    }
   ],
   "source": [
    "file = open('./text.txt')\n",
    "# print(file.read())\n",
    "# print(file.readline())\n",
    "# print(file.readline())\n",
    "# print(file.readline())\n",
    "# print(file.readline())\n",
    "\n",
    "for line in file:\n",
    "  print(line)\n",
    "\n",
    "file.close()\n",
    "\n",
    "with open('./text.txt') as file:\n",
    "  for line in file:\n",
    "    print(line)"
   ]
  }
 ],
 "metadata": {
  "kernelspec": {
   "display_name": "Python 3",
   "language": "python",
   "name": "python3"
  },
  "language_info": {
   "codemirror_mode": {
    "name": "ipython",
    "version": 3
   },
   "file_extension": ".py",
   "mimetype": "text/x-python",
   "name": "python",
   "nbconvert_exporter": "python",
   "pygments_lexer": "ipython3",
   "version": "3.11.0"
  }
 },
 "nbformat": 4,
 "nbformat_minor": 2
}
