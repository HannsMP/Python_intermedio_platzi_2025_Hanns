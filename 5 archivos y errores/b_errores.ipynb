{
 "cells": [
  {
   "cell_type": "code",
   "execution_count": 1,
   "metadata": {},
   "outputs": [
    {
     "name": "stdout",
     "output_type": "stream",
     "text": [
      "Hola\n",
      "Hola 2\n"
     ]
    },
    {
     "ename": "Exception",
     "evalue": "No se permiten menores de edad",
     "output_type": "error",
     "traceback": [
      "\u001b[1;31m---------------------------------------------------------------------------\u001b[0m",
      "\u001b[1;31mException\u001b[0m                                 Traceback (most recent call last)",
      "Cell \u001b[1;32mIn[1], line 12\u001b[0m\n\u001b[0;32m     10\u001b[0m age \u001b[38;5;241m=\u001b[39m \u001b[38;5;241m10\u001b[39m\n\u001b[0;32m     11\u001b[0m \u001b[38;5;28;01mif\u001b[39;00m age \u001b[38;5;241m<\u001b[39m \u001b[38;5;241m18\u001b[39m:\n\u001b[1;32m---> 12\u001b[0m   \u001b[38;5;28;01mraise\u001b[39;00m \u001b[38;5;167;01mException\u001b[39;00m(\u001b[38;5;124m'\u001b[39m\u001b[38;5;124mNo se permiten menores de edad\u001b[39m\u001b[38;5;124m'\u001b[39m)\n\u001b[0;32m     14\u001b[0m \u001b[38;5;28mprint\u001b[39m(\u001b[38;5;124m'\u001b[39m\u001b[38;5;124mHola 2\u001b[39m\u001b[38;5;124m'\u001b[39m)\n",
      "\u001b[1;31mException\u001b[0m: No se permiten menores de edad"
     ]
    }
   ],
   "source": [
    "# print(0 / 0)\n",
    "# print(result)\n",
    "print('Hola')\n",
    "\n",
    "suma = lambda x,y: x + y\n",
    "assert suma(2,2) == 4\n",
    "\n",
    "print('Hola 2')\n",
    "\n",
    "age = 10\n",
    "if age < 18:\n",
    "  raise Exception('No se permiten menores de edad')\n",
    "\n",
    "print('Hola 2')"
   ]
  },
  {
   "cell_type": "code",
   "execution_count": 1,
   "metadata": {},
   "outputs": [
    {
     "name": "stdout",
     "output_type": "stream",
     "text": [
      "division by zero\n",
      "Hola\n",
      "Hola 2\n"
     ]
    }
   ],
   "source": [
    "try:\n",
    "  print(0 / 0)\n",
    "  assert 1 != 1, 'Uno no es igual que uno'\n",
    "  age = 10\n",
    "  if age < 18:\n",
    "    raise Exception('No se permiten menores de edad')\n",
    "except ZeroDivisionError as error:\n",
    "  print(error)\n",
    "except AssertionError as error:\n",
    "  print(error)\n",
    "except Exception as error:\n",
    "  print(error)\n",
    "\n",
    "print('Hola')\n",
    "print('Hola 2')"
   ]
  },
  {
   "cell_type": "code",
   "execution_count": 1,
   "metadata": {},
   "outputs": [
    {
     "name": "stdout",
     "output_type": "stream",
     "text": [
      "5.0\n",
      "No se puede dividir por 0\n"
     ]
    }
   ],
   "source": [
    "def my_divide(a, b):\n",
    "   # Escribe tu solución 👇\n",
    "   try:\n",
    "      return a / b\n",
    "   except ZeroDivisionError:\n",
    "      return 'No se puede dividir por 0'\n",
    "    \n",
    "response = my_divide(10, 2)\n",
    "print(response) # 5\n",
    "\n",
    "response = my_divide(10, 0)\n",
    "print(response) # No se puede dividir por 0"
   ]
  }
 ],
 "metadata": {
  "kernelspec": {
   "display_name": "Python 3",
   "language": "python",
   "name": "python3"
  },
  "language_info": {
   "codemirror_mode": {
    "name": "ipython",
    "version": 3
   },
   "file_extension": ".py",
   "mimetype": "text/x-python",
   "name": "python",
   "nbconvert_exporter": "python",
   "pygments_lexer": "ipython3",
   "version": "3.11.0"
  }
 },
 "nbformat": 4,
 "nbformat_minor": 2
}
